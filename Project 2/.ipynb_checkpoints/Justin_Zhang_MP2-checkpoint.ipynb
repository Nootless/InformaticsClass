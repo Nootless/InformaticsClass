{
 "cells": [
  {
   "cell_type": "markdown",
   "id": "bd606778-057e-41b5-8ec5-0a597f41d83e",
   "metadata": {},
   "source": [
    "#### Mini Project 2 - Cifar10 Object Classification CNN Model ####\n",
    "\n",
    "1. Please write code in the cells marked ' # TO DO '\n",
    "2. Read all the comments in every cell so you do not miss out any instruction.\n",
    "3. Please do not change any variable names as the rest of the pre-populated code look for those variables.\n",
    "4. Please also make sure you have read the project instructions document."
   ]
  },
  {
   "cell_type": "code",
   "execution_count": 1,
   "id": "faf746cd-494d-4b10-982b-d9d717f3eb65",
   "metadata": {},
   "outputs": [
    {
     "data": {
      "text/plain": [
       "<torch._C.Generator at 0x1bf83421350>"
      ]
     },
     "execution_count": 1,
     "metadata": {},
     "output_type": "execute_result"
    }
   ],
   "source": [
    "# Import Modules that will be required for this project\n",
    "# Set Random Seed for consistency\n",
    "\n",
    "import numpy as np\n",
    "import torch\n",
    "from matplotlib import pyplot as plt\n",
    "import pandas as pd\n",
    "\n",
    "import torch.optim as optim\n",
    "import torch.nn as nn\n",
    "import torch.nn.functional as F\n",
    "from torch.utils.data import Dataset,DataLoader\n",
    "import torchvision.transforms as transforms\n",
    "from torchsummary import summary\n",
    "\n",
    "import os\n",
    "\n",
    "from skimage import io,transform\n",
    "from skimage.color import rgb2gray\n",
    "\n",
    "\n",
    "import warnings\n",
    "warnings.filterwarnings('ignore')\n",
    "\n",
    "torch.manual_seed(1)"
   ]
  },
  {
   "cell_type": "code",
   "execution_count": 2,
   "id": "0cf380eb-1a91-4a8d-b8bf-bb2e1bb66044",
   "metadata": {},
   "outputs": [],
   "source": [
    "# Check if GPU is available else run on CPU\n",
    "torch.cuda.is_available = lambda : False\n",
    "device = torch.device('cuda' if torch.cuda.is_available() else 'cpu')\n",
    "# device = 'cuda' if torch.cuda.is_available() else 'cpu'"
   ]
  },
  {
   "cell_type": "code",
   "execution_count": 3,
   "id": "c4938128-4bf3-4060-aae4-57b6d3037e41",
   "metadata": {},
   "outputs": [],
   "source": [
    "# TO DO\n",
    "\n",
    "# Please enter, between the quotes', the data path for your directory or folder where you want to save your model\n",
    "# This example is mine\n",
    "# Do not change the variable name 'data_path'\n",
    "\n",
    "data_path = 'C:/Users/Noot-PC/Documents/INFO 4150/Project 2/cifar/'"
   ]
  },
  {
   "cell_type": "code",
   "execution_count": 4,
   "id": "58de8561-a11f-466e-9e0f-12ff5c148fdc",
   "metadata": {},
   "outputs": [],
   "source": [
    "# This cell is not important but it can show you the files in your directory to chjeck the path ios correct\n",
    "# Comment it out if you do not need it.\n",
    "\n",
    "for root, dirs, files in os.walk(data_path, topdown=False):\n",
    "        for name in files:\n",
    "              print(os.path.join(root, name))"
   ]
  },
  {
   "cell_type": "code",
   "execution_count": 5,
   "id": "e8ee59bd-a7d0-4a7f-adc3-13afabc89642",
   "metadata": {},
   "outputs": [],
   "source": [
    "# Read in the data files\n",
    "# Keep the dataframe names unchanged as they are used later on\n",
    "# The data files should be in the same directory as the .ipynb file\n",
    "\n",
    "Cifar_data =  pd.read_csv('cifar10.csv')\n",
    "Cifar_test = pd.read_csv('cifar_test.csv')"
   ]
  },
  {
   "cell_type": "code",
   "execution_count": 6,
   "id": "88bf6d79-3f6a-4051-9aa5-57a6766a8cbf",
   "metadata": {},
   "outputs": [
    {
     "data": {
      "text/html": [
       "<div>\n",
       "<style scoped>\n",
       "    .dataframe tbody tr th:only-of-type {\n",
       "        vertical-align: middle;\n",
       "    }\n",
       "\n",
       "    .dataframe tbody tr th {\n",
       "        vertical-align: top;\n",
       "    }\n",
       "\n",
       "    .dataframe thead th {\n",
       "        text-align: right;\n",
       "    }\n",
       "</style>\n",
       "<table border=\"1\" class=\"dataframe\">\n",
       "  <thead>\n",
       "    <tr style=\"text-align: right;\">\n",
       "      <th></th>\n",
       "      <th>0</th>\n",
       "      <th>1</th>\n",
       "      <th>2</th>\n",
       "      <th>3</th>\n",
       "      <th>4</th>\n",
       "      <th>5</th>\n",
       "      <th>6</th>\n",
       "      <th>7</th>\n",
       "      <th>8</th>\n",
       "      <th>9</th>\n",
       "      <th>...</th>\n",
       "      <th>3063</th>\n",
       "      <th>3064</th>\n",
       "      <th>3065</th>\n",
       "      <th>3066</th>\n",
       "      <th>3067</th>\n",
       "      <th>3068</th>\n",
       "      <th>3069</th>\n",
       "      <th>3070</th>\n",
       "      <th>3071</th>\n",
       "      <th>label</th>\n",
       "    </tr>\n",
       "  </thead>\n",
       "  <tbody>\n",
       "    <tr>\n",
       "      <th>0</th>\n",
       "      <td>59</td>\n",
       "      <td>43</td>\n",
       "      <td>50</td>\n",
       "      <td>68</td>\n",
       "      <td>98</td>\n",
       "      <td>119</td>\n",
       "      <td>139</td>\n",
       "      <td>145</td>\n",
       "      <td>149</td>\n",
       "      <td>149</td>\n",
       "      <td>...</td>\n",
       "      <td>58</td>\n",
       "      <td>65</td>\n",
       "      <td>59</td>\n",
       "      <td>46</td>\n",
       "      <td>57</td>\n",
       "      <td>104</td>\n",
       "      <td>140</td>\n",
       "      <td>84</td>\n",
       "      <td>72</td>\n",
       "      <td>6</td>\n",
       "    </tr>\n",
       "    <tr>\n",
       "      <th>1</th>\n",
       "      <td>154</td>\n",
       "      <td>126</td>\n",
       "      <td>105</td>\n",
       "      <td>102</td>\n",
       "      <td>125</td>\n",
       "      <td>155</td>\n",
       "      <td>172</td>\n",
       "      <td>180</td>\n",
       "      <td>142</td>\n",
       "      <td>111</td>\n",
       "      <td>...</td>\n",
       "      <td>42</td>\n",
       "      <td>67</td>\n",
       "      <td>101</td>\n",
       "      <td>122</td>\n",
       "      <td>133</td>\n",
       "      <td>136</td>\n",
       "      <td>139</td>\n",
       "      <td>142</td>\n",
       "      <td>144</td>\n",
       "      <td>9</td>\n",
       "    </tr>\n",
       "    <tr>\n",
       "      <th>2</th>\n",
       "      <td>255</td>\n",
       "      <td>253</td>\n",
       "      <td>253</td>\n",
       "      <td>253</td>\n",
       "      <td>253</td>\n",
       "      <td>253</td>\n",
       "      <td>253</td>\n",
       "      <td>253</td>\n",
       "      <td>253</td>\n",
       "      <td>253</td>\n",
       "      <td>...</td>\n",
       "      <td>83</td>\n",
       "      <td>80</td>\n",
       "      <td>69</td>\n",
       "      <td>66</td>\n",
       "      <td>72</td>\n",
       "      <td>79</td>\n",
       "      <td>83</td>\n",
       "      <td>83</td>\n",
       "      <td>84</td>\n",
       "      <td>9</td>\n",
       "    </tr>\n",
       "    <tr>\n",
       "      <th>3</th>\n",
       "      <td>28</td>\n",
       "      <td>37</td>\n",
       "      <td>38</td>\n",
       "      <td>42</td>\n",
       "      <td>44</td>\n",
       "      <td>40</td>\n",
       "      <td>40</td>\n",
       "      <td>24</td>\n",
       "      <td>32</td>\n",
       "      <td>43</td>\n",
       "      <td>...</td>\n",
       "      <td>39</td>\n",
       "      <td>59</td>\n",
       "      <td>42</td>\n",
       "      <td>44</td>\n",
       "      <td>48</td>\n",
       "      <td>38</td>\n",
       "      <td>28</td>\n",
       "      <td>37</td>\n",
       "      <td>46</td>\n",
       "      <td>4</td>\n",
       "    </tr>\n",
       "    <tr>\n",
       "      <th>4</th>\n",
       "      <td>170</td>\n",
       "      <td>168</td>\n",
       "      <td>177</td>\n",
       "      <td>183</td>\n",
       "      <td>181</td>\n",
       "      <td>177</td>\n",
       "      <td>181</td>\n",
       "      <td>184</td>\n",
       "      <td>189</td>\n",
       "      <td>189</td>\n",
       "      <td>...</td>\n",
       "      <td>88</td>\n",
       "      <td>85</td>\n",
       "      <td>82</td>\n",
       "      <td>83</td>\n",
       "      <td>79</td>\n",
       "      <td>78</td>\n",
       "      <td>82</td>\n",
       "      <td>78</td>\n",
       "      <td>80</td>\n",
       "      <td>1</td>\n",
       "    </tr>\n",
       "  </tbody>\n",
       "</table>\n",
       "<p>5 rows × 3073 columns</p>\n",
       "</div>"
      ],
      "text/plain": [
       "     0    1    2    3    4    5    6    7    8    9  ...  3063  3064  3065  \\\n",
       "0   59   43   50   68   98  119  139  145  149  149  ...    58    65    59   \n",
       "1  154  126  105  102  125  155  172  180  142  111  ...    42    67   101   \n",
       "2  255  253  253  253  253  253  253  253  253  253  ...    83    80    69   \n",
       "3   28   37   38   42   44   40   40   24   32   43  ...    39    59    42   \n",
       "4  170  168  177  183  181  177  181  184  189  189  ...    88    85    82   \n",
       "\n",
       "   3066  3067  3068  3069  3070  3071  label  \n",
       "0    46    57   104   140    84    72      6  \n",
       "1   122   133   136   139   142   144      9  \n",
       "2    66    72    79    83    83    84      9  \n",
       "3    44    48    38    28    37    46      4  \n",
       "4    83    79    78    82    78    80      1  \n",
       "\n",
       "[5 rows x 3073 columns]"
      ]
     },
     "execution_count": 6,
     "metadata": {},
     "output_type": "execute_result"
    }
   ],
   "source": [
    "Cifar_data.head()"
   ]
  },
  {
   "cell_type": "code",
   "execution_count": 7,
   "id": "383e7453-c620-46d3-8a30-aab9e4bcc23f",
   "metadata": {},
   "outputs": [],
   "source": [
    "# Get a good understanding of what is being done to build this class\n",
    "# You will answer about it in the Questions section\n",
    "\n",
    "class cifar(Dataset):\n",
    "\n",
    "    def __init__(self, data,transforms=None):\n",
    "        self.image = data.drop(columns=['label'])\n",
    "        self.labels = data['label']\n",
    "        self.transforms = transforms\n",
    "        \n",
    "\n",
    "    def __len__(self):\n",
    "        return len(self.labels)\n",
    "\n",
    "\n",
    "    def __getitem__(self,idx):\n",
    "\n",
    "        img = np.array(self.image.iloc[idx]).reshape(3,32,32).transpose(1,2,0)\n",
    "        img = img/255.0\n",
    "        img = rgb2gray(img)\n",
    "        img = img.reshape(1,32,32)\n",
    "        \n",
    "        label = self.labels[idx]\n",
    "        label = np.array(label).reshape(-1,1)\n",
    "        \n",
    "        if self.transforms is not None:\n",
    "            img = self.transforms(img)\n",
    "                               \n",
    "        return torch.from_numpy(img),torch.from_numpy(label)"
   ]
  },
  {
   "cell_type": "code",
   "execution_count": 8,
   "id": "3e62253e-a858-49a1-9223-f3eca47ab7a1",
   "metadata": {},
   "outputs": [
    {
     "name": "stdout",
     "output_type": "stream",
     "text": [
      "Data Length of train and test set:(50000, 10000)\n",
      "\n",
      "Check data is loaded and test data shape:\n",
      "\n",
      "tensor([[6]]),\n",
      "\n",
      "(tensor([[[0.2409, 0.1776, 0.1885,  ..., 0.5325, 0.5062, 0.5003],\n",
      "         [0.0751, 0.0000, 0.0374,  ..., 0.3649, 0.3462, 0.3619],\n",
      "         [0.0941, 0.0330, 0.1188,  ..., 0.3481, 0.3498, 0.3075],\n",
      "         ...,\n",
      "         [0.6774, 0.6064, 0.6240,  ..., 0.5263, 0.1356, 0.1452],\n",
      "         [0.5671, 0.5011, 0.5675,  ..., 0.5951, 0.2644, 0.2275],\n",
      "         [0.5843, 0.5285, 0.5721,  ..., 0.7358, 0.4806, 0.3810]]],\n",
      "       dtype=torch.float64), torch.Size([1, 32, 32]))\n"
     ]
    }
   ],
   "source": [
    "# Amount of data - train and test while testing the __len__ method\n",
    "\n",
    "train_data =  cifar(Cifar_data)\n",
    "test_data =  cifar(Cifar_test)\n",
    "print(f\"Data Length of train and test set:{train_data.__len__(),test_data.__len__()}\")\n",
    "print(f\"\\nCheck data is loaded and test data shape:\\n\\n{train_data[0][1]},\\n\\n{train_data[0][0],test_data[0][0].shape}\")"
   ]
  },
  {
   "cell_type": "code",
   "execution_count": 9,
   "id": "faed68da-b850-4960-aa86-4a015dabd2f9",
   "metadata": {},
   "outputs": [
    {
     "name": "stdout",
     "output_type": "stream",
     "text": [
      "Shape of Image as it comes from the get_item method:torch.Size([1, 32, 32]),\n",
      "\n",
      "Data type of image and label:(<class 'torch.Tensor'>, <class 'torch.Tensor'>)\n",
      "\n",
      "Image has been reshaped for display purposes only:(32, 32)\n",
      "Shape of the label:torch.Size([1, 1])\n",
      "\n"
     ]
    },
    {
     "data": {
      "image/png": "[encoded data removed]",
      "text/plain": [
       "<Figure size 432x288 with 1 Axes>"
      ]
     },
     "metadata": {
      "needs_background": "light"
     },
     "output_type": "display_data"
    }
   ],
   "source": [
    "# Look at an image - this also tests the __getitem__ method\n",
    "# This also gives a check point on shape and that we have a tensor.\n",
    "\n",
    "image1,label1 = train_data.__getitem__(1)\n",
    "print(f\"Shape of Image as it comes from the get_item method:{image1.shape},\\n\\nData type of image and label:{type(image1),type(label1)}\\n\")\n",
    "image1 = (image1.numpy()).reshape(32,32)\n",
    "print(f\"Image has been reshaped for display purposes only:{image1.shape}\")\n",
    "print(f\"Shape of the label:{label1.shape}\\n\")\n",
    "io.imshow(image1)\n",
    "plt.title('Label: '+str(label1))\n",
    "plt.show()"
   ]
  },
  {
   "cell_type": "code",
   "execution_count": 10,
   "id": "b7456b79-736f-4754-b070-118a37953cb3",
   "metadata": {},
   "outputs": [],
   "source": [
    "# Inititalize the Dataloader Class\n",
    "\n",
    "train_loader = DataLoader(dataset=train_data, batch_size=100,shuffle=False)\n",
    "test_loader = DataLoader(dataset=test_data, batch_size=100,shuffle=False)"
   ]
  },
  {
   "cell_type": "code",
   "execution_count": 11,
   "id": "faf644cf-5be0-4b1f-9391-2451fcc5fdc6",
   "metadata": {},
   "outputs": [
    {
     "name": "stdout",
     "output_type": "stream",
     "text": [
      "Check batch is being loaded as expected:(torch.Size([100, 1, 32, 32]), torch.Size([100, 1, 1]))\n"
     ]
    }
   ],
   "source": [
    "# Check Dataloader is getting the correct inputs and that it is generating the batches\n",
    "\n",
    "for i , (x_batch,y_batch) in enumerate(train_loader):     \n",
    "    break\n",
    "print(f\"Check batch is being loaded as expected:{x_batch.shape,y_batch.shape}\")"
   ]
  },
  {
   "cell_type": "code",
   "execution_count": 24,
   "id": "451c9e7f-4767-4ff4-9440-ccc5458afeb3",
   "metadata": {},
   "outputs": [],
   "source": [
    "# TO DO\n",
    "\n",
    "# Complete the building of the model\n",
    "# Do not change the name, Net, of the class as it is used later\n",
    "\n",
    "class Net(nn.Module):\n",
    "    \n",
    "    def __init__(self):\n",
    "        super(Net, self).__init__()\n",
    "        # Max_Pooling=2\n",
    "        self.conv1 = nn.Conv2d(1,32,kernel_size=3,padding=1)\n",
    "        self.conv2_dropout = nn.Dropout2d(p=.2)\n",
    "        self.conv2 = nn.Conv2d(32,64,kernel_size=3,padding=1)\n",
    "        self.conv3_dropout = nn.Dropout2d(p=.2)\n",
    "        self.conv3 = nn.Conv2d(64,128,kernel_size=3,padding=1)\n",
    "        \n",
    "        self.fc1 = nn.Linear(8*8*128,1024)\n",
    "        self.fc2 = nn.Linear(1024,512)\n",
    "        self.fc3 = nn.Linear(512,10)\n",
    "        \n",
    "    def forward(self, x):\n",
    "        # Layer 1\n",
    "        x = self.conv1(x)\n",
    "        x = F.relu(x)\n",
    "        x = F.max_pool2d(x,2)\n",
    "        \n",
    "        # Layer 2\n",
    "        x = self.conv2(x)\n",
    "        x = self.conv2_dropout(x)\n",
    "        x = F.relu(x)\n",
    "        x = F.max_pool2d(x,2)\n",
    "        \n",
    "        # Layer 3\n",
    "        x = self.conv3(x)\n",
    "        # x = self.conv3_dropout(x)\n",
    "        x = F.relu(x)\n",
    "        x = x.view(-1, 8*8*128)\n",
    "        \n",
    "        x = F.relu(self.fc1(x))\n",
    "        x = F.dropout(x,training=self.training)\n",
    "        x = self.fc2(x)\n",
    "        x = self.fc3(x)\n",
    "        return x"
   ]
  },
  {
   "cell_type": "code",
   "execution_count": 13,
   "id": "48320025-5eea-4b05-9ab8-346fc9a26382",
   "metadata": {},
   "outputs": [
    {
     "name": "stdout",
     "output_type": "stream",
     "text": [
      "----------------------------------------------------------------\n",
      "        Layer (type)               Output Shape         Param #\n",
      "================================================================\n",
      "            Conv2d-1           [-1, 32, 32, 32]             320\n",
      "            Conv2d-2           [-1, 64, 16, 16]          18,496\n",
      "         Dropout2d-3           [-1, 64, 16, 16]               0\n",
      "            Conv2d-4            [-1, 128, 8, 8]          73,856\n",
      "            Linear-5                 [-1, 1024]       8,389,632\n",
      "            Linear-6                  [-1, 512]         524,800\n",
      "            Linear-7                   [-1, 10]           5,130\n",
      "================================================================\n",
      "Total params: 9,012,234\n",
      "Trainable params: 9,012,234\n",
      "Non-trainable params: 0\n",
      "----------------------------------------------------------------\n",
      "Input size (MB): 0.00\n",
      "Forward/backward pass size (MB): 0.57\n",
      "Params size (MB): 34.38\n",
      "Estimated Total Size (MB): 34.96\n",
      "----------------------------------------------------------------\n"
     ]
    }
   ],
   "source": [
    "model = Net()\n",
    "summary(model,(1,32,32))"
   ]
  },
  {
   "cell_type": "code",
   "execution_count": 14,
   "id": "542796a3-419f-48c0-95db-76b03170cd84",
   "metadata": {},
   "outputs": [],
   "source": [
    "# Initialize parameters \n",
    "# Try the SGD optimizer and then run it with Adam by uncommenting it\n",
    "# Choose which one you want to retain based on model performance\n",
    "\n",
    "lr = 0.001\n",
    "n_epochs = 1\n",
    "log_interval = 10\n",
    "loss_fn = nn.CrossEntropyLoss() \n",
    "\n",
    "optimizer = optim.Adam(model.parameters(),lr=lr)"
   ]
  },
  {
   "cell_type": "code",
   "execution_count": 15,
   "id": "963815a8-a335-49ad-8fae-19e29ecd962e",
   "metadata": {},
   "outputs": [],
   "source": [
    "train_losses = []\n",
    "train_counter = []\n",
    "test_losses = []\n",
    "test_counter = [i*len(train_data) for i in range(n_epochs + 1)]"
   ]
  },
  {
   "cell_type": "code",
   "execution_count": 16,
   "id": "5ddb5182-247e-410a-bd77-7d3f6433a20b",
   "metadata": {},
   "outputs": [],
   "source": [
    "# Function that runs the Train step\n",
    "# It is first set to training mode\n",
    "\n",
    "def train(epoch):\n",
    "    model.train()\n",
    "    for batch_idx, (data, target) in enumerate(train_loader):\n",
    "        data,target = data.float(),target.long()\n",
    "        optimizer.zero_grad()\n",
    "        output = model(data)\n",
    "        \n",
    "        output = torch.squeeze(output)\n",
    "        target = torch.squeeze(target)\n",
    "        #print(output.shape,target.shape)\n",
    "        loss = loss_fn(output,target)\n",
    "        loss.backward()\n",
    "        optimizer.step()\n",
    "        if batch_idx % log_interval == 0:\n",
    "            print('Train Epoch: {} [{}/{} ({:.0f}%)]\\tLoss: {:.6f}'.format(\n",
    "                epoch, batch_idx * len(data), len(train_data),\n",
    "                100. * batch_idx* len(data) / len(train_data), loss.item()))\n",
    "            train_losses.append(loss.item())\n",
    "            train_counter.append(\n",
    "                (batch_idx*100) + ((epoch-1)*len(train_data)))\n",
    "            torch.save(model.state_dict(), data_path+'model.pth')\n",
    "            torch.save(model, data_path+'model_final')\n",
    "            #torch.save(optimizer.state_dict(), data_path)\n",
    "            torch.save(optimizer.state_dict(),data_path + 'results.pth')"
   ]
  },
  {
   "cell_type": "code",
   "execution_count": 17,
   "id": "a3584634-78ca-4ed6-be3e-0bf2836a343c",
   "metadata": {},
   "outputs": [],
   "source": [
    "# Function that runs the Test Set\n",
    "# It is first set to Eval mode\n",
    "\n",
    "def test():\n",
    "    model.eval()\n",
    "    test_loss = 0\n",
    "    correct = 0\n",
    "    with torch.no_grad():\n",
    "        for data, target in test_loader:\n",
    "            data,target = data.float(),target.long()\n",
    "            output = model(data)\n",
    "            \n",
    "            output = torch.squeeze(output)\n",
    "            target = torch.squeeze(target)\n",
    "            #print(output.shape,target.shape)\n",
    "            test_loss += loss_fn(output, target).item()\n",
    "            pred = output.data.max(1, keepdim=True)[1]\n",
    "            correct += pred.eq(target.data.view_as(pred)).sum()\n",
    "    test_loss /= len(test_loader)\n",
    "    test_losses.append(test_loss)\n",
    "    print('\\nTest set: Avg. loss: {:.4f}, Accuracy: {}/{} ({:.0f}%)\\n'.format(\n",
    "        test_loss, correct, len(test_data),\n",
    "        100. * correct / len(test_data)))"
   ]
  },
  {
   "cell_type": "code",
   "execution_count": 18,
   "id": "98645534-f98a-44a9-bfbd-303d87b980a5",
   "metadata": {},
   "outputs": [
    {
     "name": "stdout",
     "output_type": "stream",
     "text": [
      "\n",
      "Test set: Avg. loss: 2.3030, Accuracy: 1000/10000 (10%)\n",
      "\n",
      "Train Epoch: 1 [0/50000 (0%)]\tLoss: 2.301812\n",
      "Train Epoch: 1 [1000/50000 (2%)]\tLoss: 2.303216\n",
      "Train Epoch: 1 [2000/50000 (4%)]\tLoss: 2.253847\n",
      "Train Epoch: 1 [3000/50000 (6%)]\tLoss: 2.243783\n",
      "Train Epoch: 1 [4000/50000 (8%)]\tLoss: 2.131704\n",
      "Train Epoch: 1 [5000/50000 (10%)]\tLoss: 2.079065\n",
      "Train Epoch: 1 [6000/50000 (12%)]\tLoss: 2.019927\n",
      "Train Epoch: 1 [7000/50000 (14%)]\tLoss: 2.077025\n",
      "Train Epoch: 1 [8000/50000 (16%)]\tLoss: 1.892793\n",
      "Train Epoch: 1 [9000/50000 (18%)]\tLoss: 2.039057\n",
      "Train Epoch: 1 [10000/50000 (20%)]\tLoss: 1.888497\n",
      "Train Epoch: 1 [11000/50000 (22%)]\tLoss: 1.861706\n",
      "Train Epoch: 1 [12000/50000 (24%)]\tLoss: 1.802104\n",
      "Train Epoch: 1 [13000/50000 (26%)]\tLoss: 1.737363\n",
      "Train Epoch: 1 [14000/50000 (28%)]\tLoss: 1.727536\n",
      "Train Epoch: 1 [15000/50000 (30%)]\tLoss: 1.958498\n",
      "Train Epoch: 1 [16000/50000 (32%)]\tLoss: 1.780047\n",
      "Train Epoch: 1 [17000/50000 (34%)]\tLoss: 1.692201\n",
      "Train Epoch: 1 [18000/50000 (36%)]\tLoss: 1.481516\n",
      "Train Epoch: 1 [19000/50000 (38%)]\tLoss: 1.611940\n",
      "Train Epoch: 1 [20000/50000 (40%)]\tLoss: 1.835166\n",
      "Train Epoch: 1 [21000/50000 (42%)]\tLoss: 1.625251\n",
      "Train Epoch: 1 [22000/50000 (44%)]\tLoss: 1.651167\n",
      "Train Epoch: 1 [23000/50000 (46%)]\tLoss: 1.664847\n",
      "Train Epoch: 1 [24000/50000 (48%)]\tLoss: 1.466262\n",
      "Train Epoch: 1 [25000/50000 (50%)]\tLoss: 1.540160\n",
      "Train Epoch: 1 [26000/50000 (52%)]\tLoss: 1.474892\n",
      "Train Epoch: 1 [27000/50000 (54%)]\tLoss: 1.699124\n",
      "Train Epoch: 1 [28000/50000 (56%)]\tLoss: 1.466863\n",
      "Train Epoch: 1 [29000/50000 (58%)]\tLoss: 1.546083\n",
      "Train Epoch: 1 [30000/50000 (60%)]\tLoss: 1.547547\n",
      "Train Epoch: 1 [31000/50000 (62%)]\tLoss: 1.478157\n",
      "Train Epoch: 1 [32000/50000 (64%)]\tLoss: 1.705719\n",
      "Train Epoch: 1 [33000/50000 (66%)]\tLoss: 1.836327\n",
      "Train Epoch: 1 [34000/50000 (68%)]\tLoss: 1.604797\n",
      "Train Epoch: 1 [35000/50000 (70%)]\tLoss: 1.453830\n",
      "Train Epoch: 1 [36000/50000 (72%)]\tLoss: 1.449871\n",
      "Train Epoch: 1 [37000/50000 (74%)]\tLoss: 1.451142\n",
      "Train Epoch: 1 [38000/50000 (76%)]\tLoss: 1.621606\n",
      "Train Epoch: 1 [39000/50000 (78%)]\tLoss: 1.541087\n",
      "Train Epoch: 1 [40000/50000 (80%)]\tLoss: 1.235017\n",
      "Train Epoch: 1 [41000/50000 (82%)]\tLoss: 1.475029\n",
      "Train Epoch: 1 [42000/50000 (84%)]\tLoss: 1.526011\n",
      "Train Epoch: 1 [43000/50000 (86%)]\tLoss: 1.437106\n",
      "Train Epoch: 1 [44000/50000 (88%)]\tLoss: 1.517313\n",
      "Train Epoch: 1 [45000/50000 (90%)]\tLoss: 1.186890\n",
      "Train Epoch: 1 [46000/50000 (92%)]\tLoss: 1.383805\n",
      "Train Epoch: 1 [47000/50000 (94%)]\tLoss: 1.383133\n",
      "Train Epoch: 1 [48000/50000 (96%)]\tLoss: 1.570866\n",
      "Train Epoch: 1 [49000/50000 (98%)]\tLoss: 1.301747\n",
      "\n",
      "Test set: Avg. loss: 1.3358, Accuracy: 5273/10000 (53%)\n",
      "\n",
      "Execution took: 0:02:47 secs (Wall clock time)\n"
     ]
    }
   ],
   "source": [
    "# Calling the train and test functions and running the model\n",
    "# Keeping track of time elapased\n",
    "\n",
    "# Include evaluation requirements\n",
    "\n",
    "import time\n",
    "from datetime import timedelta\n",
    "\n",
    "start_time = time.time()\n",
    "\n",
    "\n",
    "test()\n",
    "for epoch in range(1, n_epochs + 1):\n",
    "    train(epoch)\n",
    "    test()\n",
    "    \n",
    "elapsed_time_secs = time.time() - start_time\n",
    "\n",
    "msg = \"Execution took: %s secs (Wall clock time)\" % timedelta(seconds=round(elapsed_time_secs))\n",
    "\n",
    "print(msg)"
   ]
  },
  {
   "cell_type": "code",
   "execution_count": 19,
   "id": "2a0654a4-ded1-44a9-984a-013646b00729",
   "metadata": {},
   "outputs": [
    {
     "data": {
      "text/plain": [
       "Text(0, 0.5, 'negative log likelihood loss')"
      ]
     },
     "execution_count": 19,
     "metadata": {},
     "output_type": "execute_result"
    },
    {
     "data": {
      "image/png": "[encoded data removed]",
      "text/plain": [
       "<Figure size 432x288 with 1 Axes>"
      ]
     },
     "metadata": {
      "needs_background": "light"
     },
     "output_type": "display_data"
    }
   ],
   "source": [
    "fig = plt.figure()\n",
    "plt.plot(train_counter, train_losses, color='blue')\n",
    "plt.scatter(test_counter, test_losses, color='red')\n",
    "plt.legend(['Train Loss', 'Test Loss'], loc='upper right')\n",
    "plt.xlabel('number of training examples seen')\n",
    "plt.ylabel('negative log likelihood loss')"
   ]
  },
  {
   "cell_type": "markdown",
   "id": "b5d6b76b-4260-4fcb-98c9-0066145714ce",
   "metadata": {},
   "source": [
    "#### Predict ####"
   ]
  },
  {
   "cell_type": "code",
   "execution_count": 20,
   "id": "7ce9e657-e3cc-4f3d-acb3-0d8b715444e6",
   "metadata": {},
   "outputs": [],
   "source": [
    "classes = ['airplane','automobile','bird','cat','deer','dog','frog','horse','ship','truck']"
   ]
  },
  {
   "cell_type": "code",
   "execution_count": 21,
   "id": "f4a91684-61d5-413f-bd5e-c48806586d63",
   "metadata": {},
   "outputs": [],
   "source": [
    "model = torch.load(data_path+'model_final')"
   ]
  },
  {
   "cell_type": "code",
   "execution_count": 22,
   "id": "a2c859fe-61c8-4358-9448-497e6f5097f1",
   "metadata": {},
   "outputs": [],
   "source": [
    "def classify(model,image,classes):\n",
    "    image = io.imread(image)\n",
    "    image = transform.resize(image,(32,32,3))\n",
    "    #image = image/255\n",
    "    image = rgb2gray(image)\n",
    "    image = image.reshape(1,32,32)\n",
    "    \n",
    "    model = model.eval()\n",
    "    image = torch.from_numpy(image)\n",
    "    \n",
    "    image = image.float()\n",
    "    image = image.unsqueeze(0)\n",
    "    output = model(image)\n",
    "    _,predicted = torch.max(output.data,1)\n",
    "    print(classes[predicted.item()])"
   ]
  },
  {
   "cell_type": "code",
   "execution_count": 23,
   "id": "8b71094d-035c-4115-87ca-561be699ee2e",
   "metadata": {},
   "outputs": [
    {
     "name": "stdout",
     "output_type": "stream",
     "text": [
      "airplane\n",
      "automobile\n",
      "bird\n",
      "ship\n",
      "deer\n",
      "dog\n",
      "frog\n",
      "horse\n",
      "ship\n",
      "cat\n"
     ]
    }
   ],
   "source": [
    "pics = ['airplane.jpg','automobile.jpg','bird.jpeg','cat.jpg','deer.jpg','dog.jpg','frog.jpg','horse.jpg','ship.jpg','truck.jpeg']\n",
    "\n",
    "for i in pics:\n",
    "    classify(model,i,classes)"
   ]
  },
  {
   "cell_type": "markdown",
   "id": "0728ac78-7e4b-4345-8da9-8f60ac7ae393",
   "metadata": {},
   "source": [
    "## a. Explain in detail the strategy used in implementing the Dataset class. The answer should clearly describe how the data is being accessed in the __init__ function, and how it is delivered to the DataLoader It should also explain the processing I am doing on the images in the __get_item__ method. ##\n",
    "\n",
    "\n",
    "In the Dataset class, the __init__ function at the instantiation of the class, meaning it is called immediately at declaration. At the initialization, the Dataset class requires a parameter: data. This data is read in and saved in 3 variables that are created and tied to the class: image, labels, transforms. Image takes everything from the data passed in except for the 'label' column, labels takes only the 'label' column, and transforms takes nothing because there is no transforms needed.\n",
    "The __len__ function just returns the length of the labels, the overall number of data points. \n",
    "The __getitem__ function is where the data is accessed by the DataLoader. The purpose of the function is to give the DataLoader a single image and label. First it transposes the image for it to be in a more palatable format for pytorch, as it takes in [layers, length. width] while the image is given in [length,width,layers]. Additionally, the colors are layered as 3s, and need to be rearranged in channels. After its been converted, its normalized to make the gradient descent smoother. The image is then converted to gray and its layers reduced to 1. The label for the index the DataLoader requested is pulled and then reformatted. The transforms are also applied here if there are any, in our case we default to none. Then, the reformatted image and label are sent to DataLoader as torch tensors.\n",
    "\n",
    "## b. Describe in brief, the 3 main things that this complete application is doing, and the parameters one can tweak to build a good final model. ##\n",
    "\n",
    "The three main steps are build, train, and test the model.\n",
    "Firstly, the program is building the model. It does this by creating a class to hold the data, pulling in data, and feeding it to the DataLoader in batches. Second, this data is fed in batches to the neural network, where it trains on it and tested for the accuracy of the model at that stage. Once it has been trained, the model is used to predict new pictures.\n",
    "\n",
    "The user could tweak the epochs to build a better model. By increasing the epochs, the model has more to train off and improve its accuracy. Another way would use dropout functions, which randomly drop specific nodes in a neural net during training. This would prevent overtraining and improve the overall acuracy. Adjusting the kernel size, padding, and maxpool size can also improve the accuracy at the cost of speed.\n",
    "\n",
    "## c. How accurate were your predictions on percentage basis? ## \n",
    "\n",
    "In terms of the test data, it was 53% effective. For the predictions, it was 80% effective.\n",
    "\n",
    "## d. What were the challenges you faced while completing this HW and what helped you in putting it together? ## \n",
    "\n",
    "Some of the challenges were getting to understand the full neural network. While the overall process was not bad, it was mostly the numbers between the layers. Once I figured that out, I had a big issue with my gpu messing up the program by consistently causing type errors with the program. The video lectures helped me understand how to fix the issues and also how the numbers worked out. The other issue I had was figuring out where best to put the dropout layer, or if I should have two. I figured this out by testing the model multiple times to see which would give better results."
   ]
  }
 ],
 "metadata": {
  "kernelspec": {
   "display_name": "Python 3 (ipykernel)",
   "language": "python",
   "name": "python3"
  },
  "language_info": {
   "codemirror_mode": {
    "name": "ipython",
    "version": 3
   },
   "file_extension": ".py",
   "mimetype": "text/x-python",
   "name": "python",
   "nbconvert_exporter": "python",
   "pygments_lexer": "ipython3",
   "version": "3.9.12"
  }
 },
 "nbformat": 4,
 "nbformat_minor": 5
}
