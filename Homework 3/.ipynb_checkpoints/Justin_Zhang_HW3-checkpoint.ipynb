{
 "cells": [
  {
   "cell_type": "code",
   "execution_count": 1,
   "id": "8c8e3275-72d4-4224-a212-b17f7833bfb5",
   "metadata": {},
   "outputs": [],
   "source": [
    "# Standard imports\n",
    "import warnings\n",
    "warnings.filterwarnings(\"ignore\")\n",
    "\n",
    "import pandas as pd\n",
    "import numpy as np\n",
    "import matplotlib.pyplot as plot\n",
    "\n",
    "import xgboost as xgb\n",
    "from xgboost import XGBClassifier\n",
    "from xgboost import plot_tree\n",
    "\n",
    "from sklearn.tree import DecisionTreeClassifier\n",
    "from sklearn.model_selection import train_test_split\n",
    "from sklearn.metrics import accuracy_score\n",
    "from sklearn.preprocessing import LabelEncoder \n",
    "\n"
   ]
  },
  {
   "cell_type": "code",
   "execution_count": 2,
   "id": "ecaf28b3-16ab-459e-9441-b719be58d5b5",
   "metadata": {},
   "outputs": [
    {
     "name": "stdout",
     "output_type": "stream",
     "text": [
      "Wholesale Data:\n",
      "     Channel  Region  Fresh   Milk  Grocery  Frozen  Detergents_Paper  \\\n",
      "0          2       3  12669   9656     7561     214              2674   \n",
      "1          2       3   7057   9810     9568    1762              3293   \n",
      "2          2       3   6353   8808     7684    2405              3516   \n",
      "3          1       3  13265   1196     4221    6404               507   \n",
      "4          2       3  22615   5410     7198    3915              1777   \n",
      "..       ...     ...    ...    ...      ...     ...               ...   \n",
      "435        1       3  29703  12051    16027   13135               182   \n",
      "436        1       3  39228   1431      764    4510                93   \n",
      "437        2       3  14531  15488    30243     437             14841   \n",
      "438        1       3  10290   1981     2232    1038               168   \n",
      "439        1       3   2787   1698     2510      65               477   \n",
      "\n",
      "     Delicassen  \n",
      "0          1338  \n",
      "1          1776  \n",
      "2          7844  \n",
      "3          1788  \n",
      "4          5185  \n",
      "..          ...  \n",
      "435        2204  \n",
      "436        2346  \n",
      "437        1867  \n",
      "438        2125  \n",
      "439          52  \n",
      "\n",
      "[440 rows x 8 columns]\n"
     ]
    }
   ],
   "source": [
    "# import csv data\n",
    "data = pd.read_csv('Wholesale_customers_data.csv')\n",
    "print(f'Wholesale Data:\\n{data}')"
   ]
  },
  {
   "cell_type": "code",
   "execution_count": 3,
   "id": "1a453e4d-18e6-421f-abc1-dae909edd8e2",
   "metadata": {},
   "outputs": [
    {
     "name": "stdout",
     "output_type": "stream",
     "text": [
      "Label Encoded Channel:\n",
      "      Channel  Region  Fresh   Milk  Grocery  Frozen  Detergents_Paper  \\\n",
      "0          1       3  12669   9656     7561     214              2674   \n",
      "1          1       3   7057   9810     9568    1762              3293   \n",
      "2          1       3   6353   8808     7684    2405              3516   \n",
      "3          0       3  13265   1196     4221    6404               507   \n",
      "4          1       3  22615   5410     7198    3915              1777   \n",
      "..       ...     ...    ...    ...      ...     ...               ...   \n",
      "435        0       3  29703  12051    16027   13135               182   \n",
      "436        0       3  39228   1431      764    4510                93   \n",
      "437        1       3  14531  15488    30243     437             14841   \n",
      "438        0       3  10290   1981     2232    1038               168   \n",
      "439        0       3   2787   1698     2510      65               477   \n",
      "\n",
      "     Delicassen  \n",
      "0          1338  \n",
      "1          1776  \n",
      "2          7844  \n",
      "3          1788  \n",
      "4          5185  \n",
      "..          ...  \n",
      "435        2204  \n",
      "436        2346  \n",
      "437        1867  \n",
      "438        2125  \n",
      "439          52  \n",
      "\n",
      "[440 rows x 8 columns]\n"
     ]
    }
   ],
   "source": [
    "# 2. LabelEncoder to change Channel to (1 - 2) -> (0 - 1)\n",
    "data_c = data.copy()\n",
    "le = LabelEncoder()\n",
    "\n",
    "data_c['Channel'] = le.fit_transform(data['Channel'])\n",
    "print(f'Label Encoded Channel:\\n {data_c}')\n",
    "# 0 is for hotel\n",
    "# 1 is for retail\n",
    "\n"
   ]
  },
  {
   "cell_type": "code",
   "execution_count": 4,
   "id": "08d679f1-72dc-4c9c-8d0c-a2e8e7782550",
   "metadata": {},
   "outputs": [
    {
     "name": "stdout",
     "output_type": "stream",
     "text": [
      "X:\n",
      "      Region  Fresh   Milk  Grocery  Frozen  Detergents_Paper  Delicassen\n",
      "0         3  12669   9656     7561     214              2674        1338\n",
      "1         3   7057   9810     9568    1762              3293        1776\n",
      "2         3   6353   8808     7684    2405              3516        7844\n",
      "3         3  13265   1196     4221    6404               507        1788\n",
      "4         3  22615   5410     7198    3915              1777        5185\n",
      "..      ...    ...    ...      ...     ...               ...         ...\n",
      "435       3  29703  12051    16027   13135               182        2204\n",
      "436       3  39228   1431      764    4510                93        2346\n",
      "437       3  14531  15488    30243     437             14841        1867\n",
      "438       3  10290   1981     2232    1038               168        2125\n",
      "439       3   2787   1698     2510      65               477          52\n",
      "\n",
      "[440 rows x 7 columns]\n",
      "Y:\n",
      "0      1\n",
      "1      1\n",
      "2      1\n",
      "3      0\n",
      "4      1\n",
      "      ..\n",
      "435    0\n",
      "436    0\n",
      "437    1\n",
      "438    0\n",
      "439    0\n",
      "Name: Channel, Length: 440, dtype: int64\n",
      "\n",
      "Train Length: 330\n",
      "Test Length: 110\n"
     ]
    }
   ],
   "source": [
    "# split test data\n",
    "X = data_c.drop('Channel',axis=1)\n",
    "Y = data_c['Channel']\n",
    "print(f'X:\\n {X}\\nY:\\n{Y}') \n",
    "x_train,x_test,y_train,y_test = train_test_split(X,Y,random_state=42)\n",
    "print(f'\\nTrain Length: {len(x_train)}\\nTest Length: {len(x_test)}')"
   ]
  },
  {
   "cell_type": "code",
   "execution_count": 5,
   "id": "7669a89f-23dc-4a98-a9c1-68abf978e6df",
   "metadata": {},
   "outputs": [
    {
     "name": "stdout",
     "output_type": "stream",
     "text": [
      "[10:08:00] WARNING: ..\\src\\learner.cc:1115: Starting in XGBoost 1.3.0, the default evaluation metric used with the objective 'binary:logistic' was changed from 'error' to 'logloss'. Explicitly set eval_metric if you'd like to restore the old behavior.\n",
      "[10:08:00] WARNING: ..\\src\\learner.cc:1115: Starting in XGBoost 1.3.0, the default evaluation metric used with the objective 'binary:logistic' was changed from 'error' to 'logloss'. Explicitly set eval_metric if you'd like to restore the old behavior.\n",
      "[10:08:00] WARNING: ..\\src\\learner.cc:1115: Starting in XGBoost 1.3.0, the default evaluation metric used with the objective 'binary:logistic' was changed from 'error' to 'logloss'. Explicitly set eval_metric if you'd like to restore the old behavior.\n",
      "[10:08:00] WARNING: ..\\src\\learner.cc:1115: Starting in XGBoost 1.3.0, the default evaluation metric used with the objective 'binary:logistic' was changed from 'error' to 'logloss'. Explicitly set eval_metric if you'd like to restore the old behavior.\n",
      "\n",
      "Max Depth of [2,4,8,16]\n",
      "Accuracy scores for DTC: [0.9, 0.8909090909090909, 0.8545454545454545, 0.8727272727272727]\n",
      "Accuracy scores for XGB: [0.9, 0.9363636363636364, 0.9272727272727272, 0.9272727272727272]\n"
     ]
    }
   ],
   "source": [
    "# 3. and 4. Instantiate and fit data\n",
    "max_depth = [2,4,8,16]\n",
    "acc_score_dtc = []\n",
    "acc_score_xgb = []\n",
    "for d in max_depth: \n",
    "    # model instatiation\n",
    "    dtc = DecisionTreeClassifier(random_state=42,max_depth=d)\n",
    "    xgb = XGBClassifier(random_state=42,max_depth=d)\n",
    "    \n",
    "    # model data fitting\n",
    "    dtc.fit(x_train,y_train)\n",
    "    xgb.fit(x_train,y_train)\n",
    "    \n",
    "    # model prediction\n",
    "    d_pred = dtc.predict(x_test)\n",
    "    x_pred = xgb.predict(x_test)\n",
    "    \n",
    "    # accuracy\n",
    "    acc_score_dtc.append(accuracy_score(y_test, d_pred))\n",
    "    acc_score_xgb.append(accuracy_score(y_test, x_pred))\n",
    "    \n",
    "print('\\nMax Depth of [2,4,8,16]')\n",
    "print(f'Accuracy scores for DTC: {acc_score_dtc}\\nAccuracy scores for XGB: {acc_score_xgb}')\n",
    "# Overall, the best model is the XGB at a max depth of 4"
   ]
  },
  {
   "cell_type": "code",
   "execution_count": 6,
   "id": "f4adfe7c-7216-47eb-9345-64756df66975",
   "metadata": {},
   "outputs": [
    {
     "data": {
      "image/png": "[encoded data removed]",
      "text/plain": [
       "<Figure size 432x288 with 1 Axes>"
      ]
     },
     "metadata": {
      "needs_background": "light"
     },
     "output_type": "display_data"
    },
    {
     "name": "stdout",
     "output_type": "stream",
     "text": [
      "Important Features list:\n",
      "Index(['Region', 'Fresh', 'Milk', 'Grocery', 'Frozen', 'Detergents_Paper',\n",
      "       'Delicassen'],\n",
      "      dtype='object')\n",
      "[0.02844458 0.06564344 0.07745103 0.04543158 0.05198745 0.702337\n",
      " 0.02870488]\n"
     ]
    }
   ],
   "source": [
    "# 5. Feature Importance - XGB\n",
    "\n",
    "plot.barh(X.columns, xgb.feature_importances_)\n",
    "plot.title('Feature Importance - XGB')\n",
    "plot.show()\n",
    "print(f'Important Features list:\\n{X.columns}\\n{xgb.feature_importances_}')"
   ]
  },
  {
   "cell_type": "code",
   "execution_count": 7,
   "id": "b6c685f3-3788-4bd9-9c86-e77cf7ba5565",
   "metadata": {},
   "outputs": [
    {
     "data": {
      "image/png": "[encoded data removed]",
      "text/plain": [
       "<Figure size 432x288 with 1 Axes>"
      ]
     },
     "metadata": {
      "needs_background": "light"
     },
     "output_type": "display_data"
    },
    {
     "name": "stdout",
     "output_type": "stream",
     "text": [
      "Important Features list:\n",
      "Index(['Region', 'Fresh', 'Milk', 'Grocery', 'Frozen', 'Detergents_Paper',\n",
      "       'Delicassen'],\n",
      "      dtype='object')\n",
      "[0.01105796 0.02586166 0.06245423 0.05616198 0.06246693 0.74081477\n",
      " 0.04118247]\n"
     ]
    }
   ],
   "source": [
    "# 5. Feature Importance - DTC\n",
    "plot.barh(X.columns, dtc.feature_importances_)\n",
    "plot.title('Feature Importance - DTC')\n",
    "plot.show()\n",
    "print(f'Important Features list:\\n{X.columns}\\n{dtc.feature_importances_}')"
   ]
  },
  {
   "cell_type": "markdown",
   "id": "f2e3f2c3-0749-408f-9fed-4b2a7a477f50",
   "metadata": {},
   "source": [
    "Which model performed the best and at what max_depth value? Why do you\n",
    "think one performed better than the other?\n",
    "\n",
    "Which feature seems to play the most important role in predicting the label? Was\n",
    "it the same for both models?\n",
    "\n",
    "What aspects from this project enhanced your knowledge of ‘Machine Learning’?\n",
    "\n",
    "\n",
    "1. The model that performed best was the extreme gradient boosting at a max depth of 4. I believe it did better because it was more scalable than the Decision Tree Classifier. Because there was 7 different features, it might have been harder for the decision tree to figure out the right label due to out a more complex calculation. Additionally, the DTClassifier might have more bias, especially with a large reliance on one feature, which one of XGB's goals is to reduce through boosting. I think the depth of 4 with 93.6% was the best because at 2 it was too early, while at 8 and beyond it was starting to get 'over-trained' and its accuracy was going down.\n",
    "2. 'Detergents_Paper' is one of the most important features in predicting the label. It was a similar distribution for both models, with Detergent paper as the highest. However DTC had a lower perecntage compared to XGB.\n",
    "3.  I feel being able to visualize the differences between the the max depths was useful to see as it showed a bit more into how the algorithm adjusted over time. Being able to visualize it over just an explanation of the math form helped out alot. Another thing that was helpful was differing from the previous homeworks. While all the steps were the same (the model building process), this assignment was a bit experimental compared to the more line-by-line approach previously. This made me internalize the steps in order to reproduce them."
   ]
  }
 ],
 "metadata": {
  "kernelspec": {
   "display_name": "Python 3 (ipykernel)",
   "language": "python",
   "name": "python3"
  },
  "language_info": {
   "codemirror_mode": {
    "name": "ipython",
    "version": 3
   },
   "file_extension": ".py",
   "mimetype": "text/x-python",
   "name": "python",
   "nbconvert_exporter": "python",
   "pygments_lexer": "ipython3",
   "version": "3.9.12"
  }
 },
 "nbformat": 4,
 "nbformat_minor": 5
}
