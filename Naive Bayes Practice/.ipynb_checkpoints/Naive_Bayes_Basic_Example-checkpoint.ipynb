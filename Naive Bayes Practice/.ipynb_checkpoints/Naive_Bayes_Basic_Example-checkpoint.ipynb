{
 "cells": [
  {
   "cell_type": "markdown",
   "id": "d75089de-de7c-473f-97d1-b150d9a9f0c2",
   "metadata": {},
   "source": [
    "### A simple Naive Bayes Classifier ###"
   ]
  },
  {
   "cell_type": "code",
   "execution_count": 1,
   "id": "27adfb08-3704-45e7-ab37-d26891c546c4",
   "metadata": {},
   "outputs": [],
   "source": [
    "import numpy as np\n",
    "import pandas as pd\n",
    "import warnings\n",
    "warnings.filterwarnings('ignore')"
   ]
  },
  {
   "cell_type": "code",
   "execution_count": 2,
   "id": "aea72c05-87a1-4482-be8e-9e7a8b6a72fb",
   "metadata": {},
   "outputs": [],
   "source": [
    "# Assigning features and label variables\n",
    "\n",
    "weather=['Sunny','Sunny','Overcast','Rainy','Rainy','Rainy','Overcast','Sunny','Sunny',\n",
    "'Rainy','Sunny','Overcast','Overcast','Rainy']\n",
    "\n",
    "temp=['Hot','Hot','Hot','Mild','Cool','Cool','Cool','Mild','Cool','Mild','Mild','Mild','Hot','Mild']\n",
    "\n",
    "play=['No','No','Yes','Yes','Yes','No','Yes','No','Yes','Yes','Yes','Yes','Yes','No']\n"
   ]
  },
  {
   "cell_type": "markdown",
   "id": "9ada4b92-fdfd-47d3-8fd4-0244e6072c02",
   "metadata": {},
   "source": [
    "### The algorithm cannot take categorical text values and hence you have to encode it numerically ###\n",
    "#### Encode as shown below including the label column ####\n",
    "weather: 0 -> Overcast, 1 -> Rainy, 2 -> Sunny<br>temp: 0 -> Cool, 1 -> Hot, 2 -> Mild<br> play: 0 -> No, 1 -> Yes\n",
    "\n",
    "#### Use the 'LabelEncoder' operator from sklearn - Look at the documentation and examples therein to see how it is used ####"
   ]
  },
  {
   "cell_type": "code",
   "execution_count": 7,
   "id": "52a6c63a-2594-4a85-9990-a4e1d4d44608",
   "metadata": {},
   "outputs": [
    {
     "name": "stdout",
     "output_type": "stream",
     "text": [
      "Weather Encoded: [2 2 0 1 1 1 0 2 2 1 2 0 0 1]\n",
      "Temperature Encoded: [1 1 1 2 0 0 0 2 0 2 2 2 1 2] \n",
      "Play Encoded: [0 0 1 1 1 0 1 0 1 1 1 1 1 0]\n",
      "<class 'numpy.ndarray'>\n"
     ]
    }
   ],
   "source": [
    "# Import LabelEncoder\n",
    "from sklearn import preprocessing \n",
    "\n",
    "# Instantiate a labelEncoder object\n",
    "label_encoder = preprocessing.LabelEncoder()\n",
    "\n",
    "# Converting string 'weather' into numbers with fit_transform.\n",
    "weather_enc = label_encoder.fit_transform(weather)\n",
    "\n",
    "# Converting string 'temp' into numbers with fit_transform.\n",
    "temp_enc = label_encoder.fit_transform(temp)\n",
    "\n",
    "# Converting string label 'play' into numbers with fit_transform.\n",
    "play_enc = label_encoder.fit_transform(play)\n",
    "\n",
    "# Use the print command to check all encodings are correct.\n",
    "print(f'Weather Encoded: {weather_enc}\\nTemperature Encoded: {temp_enc} \\nPlay Encoded: {play_enc}')\n"
   ]
  },
  {
   "cell_type": "code",
   "execution_count": 8,
   "id": "0b7ef89d-acf5-41cc-b702-201598d89a58",
   "metadata": {},
   "outputs": [
    {
     "ename": "AttributeError",
     "evalue": "module 'pandas' has no attribute 'Dataframe'",
     "output_type": "error",
     "traceback": [
      "\u001b[1;31m---------------------------------------------------------------------------\u001b[0m",
      "\u001b[1;31mAttributeError\u001b[0m                            Traceback (most recent call last)",
      "\u001b[1;32m<ipython-input-8-7f7b642abfec>\u001b[0m in \u001b[0;36m<module>\u001b[1;34m\u001b[0m\n\u001b[0;32m      7\u001b[0m \u001b[1;33m\u001b[0m\u001b[0m\n\u001b[0;32m      8\u001b[0m \u001b[1;31m# Convert the dictionary into a dataframe called 'data'\u001b[0m\u001b[1;33m\u001b[0m\u001b[1;33m\u001b[0m\u001b[1;33m\u001b[0m\u001b[0m\n\u001b[1;32m----> 9\u001b[1;33m \u001b[0mdata\u001b[0m \u001b[1;33m=\u001b[0m \u001b[0mpd\u001b[0m\u001b[1;33m.\u001b[0m\u001b[0mDataframe\u001b[0m\u001b[1;33m(\u001b[0m\u001b[0mfeatures\u001b[0m\u001b[1;33m)\u001b[0m\u001b[1;33m\u001b[0m\u001b[1;33m\u001b[0m\u001b[0m\n\u001b[0m\u001b[0;32m     10\u001b[0m \u001b[1;33m\u001b[0m\u001b[0m\n\u001b[0;32m     11\u001b[0m \u001b[1;31m# Add an additional column called 'play' to the dataframe\u001b[0m\u001b[1;33m\u001b[0m\u001b[1;33m\u001b[0m\u001b[1;33m\u001b[0m\u001b[0m\n",
      "\u001b[1;32m~\\anaconda3\\lib\\site-packages\\pandas\\__init__.py\u001b[0m in \u001b[0;36m__getattr__\u001b[1;34m(name)\u001b[0m\n\u001b[0;32m    242\u001b[0m         \u001b[1;32mreturn\u001b[0m \u001b[0m_SparseArray\u001b[0m\u001b[1;33m\u001b[0m\u001b[1;33m\u001b[0m\u001b[0m\n\u001b[0;32m    243\u001b[0m \u001b[1;33m\u001b[0m\u001b[0m\n\u001b[1;32m--> 244\u001b[1;33m     \u001b[1;32mraise\u001b[0m \u001b[0mAttributeError\u001b[0m\u001b[1;33m(\u001b[0m\u001b[1;34mf\"module 'pandas' has no attribute '{name}'\"\u001b[0m\u001b[1;33m)\u001b[0m\u001b[1;33m\u001b[0m\u001b[1;33m\u001b[0m\u001b[0m\n\u001b[0m\u001b[0;32m    245\u001b[0m \u001b[1;33m\u001b[0m\u001b[0m\n\u001b[0;32m    246\u001b[0m \u001b[1;33m\u001b[0m\u001b[0m\n",
      "\u001b[1;31mAttributeError\u001b[0m: module 'pandas' has no attribute 'Dataframe'"
     ]
    }
   ],
   "source": [
    "# Create a dictionary of encoded features\n",
    "features = {\n",
    "    \"weather\":0,\n",
    "    \"temperature\":1,\n",
    "    \"play\":2\n",
    "}\n",
    "\n",
    "# Convert the dictionary into a dataframe called 'data'\n",
    "data = pd.DataFrame(features)\n",
    "\n",
    "# Add an additional column called 'play' to the dataframe\n",
    "\n",
    "\n",
    "# Print 'data.head()' to make sure the dataframe has been created\n",
    "\n",
    "\n",
    "\n",
    "# Separate into X and y (features and label)\n",
    "# Let us not bother to split it into train and test in this case\n"
   ]
  },
  {
   "cell_type": "code",
   "execution_count": null,
   "id": "0ab00206-9717-4c79-92dd-35c4d358bf36",
   "metadata": {},
   "outputs": [],
   "source": [
    "# Import the Gaussian Naive Bayes model from sklearn - look for it in the documentation\n",
    "\n",
    "\n",
    "# Instantiate an object from the Naive Bayes Gaussian Classifier class\n",
    "\n",
    "\n",
    "# Train the model using the training sets\n",
    "\n",
    "\n",
    "# Predict Output for a given situation (say: Overcast and Mild) - Always feed values as a numpy array\n",
    "# Remember this model expects 2 features as inputs\n",
    "# Check if the answer looks right\n",
    "\n"
   ]
  },
  {
   "cell_type": "code",
   "execution_count": null,
   "id": "2370877e-6a25-4c6d-a510-af867689d4cc",
   "metadata": {},
   "outputs": [],
   "source": []
  },
  {
   "cell_type": "code",
   "execution_count": null,
   "id": "18b9a3f2-f5cd-41cd-acfd-4ce15f48aca5",
   "metadata": {},
   "outputs": [],
   "source": []
  }
 ],
 "metadata": {
  "kernelspec": {
   "display_name": "Python 3",
   "language": "python",
   "name": "python3"
  },
  "language_info": {
   "codemirror_mode": {
    "name": "ipython",
    "version": 3
   },
   "file_extension": ".py",
   "mimetype": "text/x-python",
   "name": "python",
   "nbconvert_exporter": "python",
   "pygments_lexer": "ipython3",
   "version": "3.8.8"
  }
 },
 "nbformat": 4,
 "nbformat_minor": 5
}
